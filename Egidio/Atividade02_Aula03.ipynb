{
  "nbformat": 4,
  "nbformat_minor": 0,
  "metadata": {
    "colab": {
      "provenance": []
    },
    "kernelspec": {
      "name": "python3",
      "display_name": "Python 3"
    },
    "language_info": {
      "name": "python"
    }
  },
  "cells": [
    {
      "cell_type": "code",
      "execution_count": 8,
      "metadata": {
        "colab": {
          "base_uri": "https://localhost:8080/"
        },
        "id": "n8B8kD53cnbi",
        "outputId": "32fcda24-2286-4a15-990a-78348ab45e2d"
      },
      "outputs": [
        {
          "output_type": "stream",
          "name": "stdout",
          "text": [
            "Digite o nome do aluno: Egidio\n",
            "Digite a nota 1: 5\n",
            "Digite a nota 2: 4\n",
            "Digite a nota 3: 7\n",
            "Digite a nota 4: 8\n",
            "\n",
            "Informações do Aluno:\n",
            "Nome: Egidio\n",
            "Notas: [5.0, 4.0, 7.0, 8.0]\n",
            "Maior Nota: 8.0\n",
            "Menor Nota: 4.0\n",
            "Média: 6.0\n",
            "Situação: Reprovado\n"
          ]
        }
      ],
      "source": [
        "aluno = {}\n",
        "\n",
        "aluno['nome'] = input(\"Digite o nome do aluno: \")\n",
        "\n",
        "notas = []\n",
        "for i in range(4):\n",
        "  nota = float(input(f\"Digite a nota {i+1}: \"))\n",
        "  notas.append(nota)\n",
        "\n",
        "aluno['notas'] = notas\n",
        "aluno['maior_nota'] = max(notas)\n",
        "aluno['menor_nota'] = min(notas)\n",
        "aluno['media'] = sum(notas) / len(notas)\n",
        "\n",
        "if aluno['media'] > 7:\n",
        "  aluno['situacao'] = 'Aprovado'\n",
        "else:\n",
        "  aluno['situacao'] = 'Reprovado'\n",
        "\n",
        "print(\"\\nInformações do Aluno:\")\n",
        "print(f\"Nome: {aluno['nome']}\")\n",
        "print(f\"Notas: {aluno['notas']}\")\n",
        "print(f\"Maior Nota: {aluno['maior_nota']}\")\n",
        "print(f\"Menor Nota: {aluno['menor_nota']}\")\n",
        "print(f\"Média: {aluno['media']}\")\n",
        "print(f\"Situação: {aluno['situacao']}\")\n",
        "\n"
      ]
    }
  ]
}