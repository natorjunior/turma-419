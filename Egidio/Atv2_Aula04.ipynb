{
  "nbformat": 4,
  "nbformat_minor": 0,
  "metadata": {
    "colab": {
      "provenance": []
    },
    "kernelspec": {
      "name": "python3",
      "display_name": "Python 3"
    },
    "language_info": {
      "name": "python"
    }
  },
  "cells": [
    {
      "cell_type": "code",
      "execution_count": 3,
      "metadata": {
        "colab": {
          "base_uri": "https://localhost:8080/"
        },
        "id": "TYTyRfRIn4Cr",
        "outputId": "679a0661-f640-46ec-d2e3-b60f1efd288c"
      },
      "outputs": [
        {
          "output_type": "stream",
          "name": "stdout",
          "text": [
            "Hello World!\n"
          ]
        }
      ],
      "source": [
        "def exibir_mensagem():\n",
        "    print(\"Hello World!\")\n",
        "exibir_mensagem()"
      ]
    },
    {
      "cell_type": "code",
      "source": [
        "def exibir_mensagem_dinamica(mensagem):\n",
        "  print(mensagem)\n",
        "exibir_mensagem_dinamica(\"Infinity School\")"
      ],
      "metadata": {
        "colab": {
          "base_uri": "https://localhost:8080/"
        },
        "id": "s3clKk9Modxt",
        "outputId": "313d4ec1-eaeb-4ad1-f5ad-2bf9bdade9f8"
      },
      "execution_count": 6,
      "outputs": [
        {
          "output_type": "stream",
          "name": "stdout",
          "text": [
            "Unfinity School\n"
          ]
        }
      ]
    },
    {
      "cell_type": "code",
      "source": [
        "def area(largura, comprimento):\n",
        "  area_terreno = largura * comprimento\n",
        "  print(\"A área do terreno é: \", area_terreno)\n",
        "\n",
        "area(10, 20)"
      ],
      "metadata": {
        "colab": {
          "base_uri": "https://localhost:8080/"
        },
        "id": "JT88_ODopEQM",
        "outputId": "0a219e43-4905-4260-c857-20fdbcdbf82f"
      },
      "execution_count": 7,
      "outputs": [
        {
          "output_type": "stream",
          "name": "stdout",
          "text": [
            "A área do terreno é:  200\n"
          ]
        }
      ]
    },
    {
      "cell_type": "code",
      "source": [
        "num1 = input(\"Digite o primeiro número: \")\n",
        "num2 = input(\"Digite o segundo número: \")\n",
        "\n",
        "def imprime_menor(num1, num2):\n",
        "  if num1 < num2:\n",
        "    print(f\"O menor número é: {num1}\")\n",
        "  elif num1 > num2:\n",
        "    print(f\"O número menor é: {num2}\")\n",
        "  else:\n",
        "    print(\"Os números são iguais\")\n",
        "\n",
        "imprime_menor(num1, num2)\n"
      ],
      "metadata": {
        "colab": {
          "base_uri": "https://localhost:8080/"
        },
        "id": "HAATHDkrp3Gr",
        "outputId": "ee712a00-ef43-4509-a374-ec7fa0afe871"
      },
      "execution_count": 9,
      "outputs": [
        {
          "output_type": "stream",
          "name": "stdout",
          "text": [
            "Digite o primeiro número: 7\n",
            "Digite o segundo número: 8\n",
            "O menor número é: 7\n"
          ]
        }
      ]
    }
  ]
}