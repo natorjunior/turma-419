{
  "nbformat": 4,
  "nbformat_minor": 0,
  "metadata": {
    "colab": {
      "provenance": []
    },
    "kernelspec": {
      "name": "python3",
      "display_name": "Python 3"
    },
    "language_info": {
      "name": "python"
    }
  },
  "cells": [
    {
      "cell_type": "code",
      "execution_count": 21,
      "metadata": {
        "colab": {
          "base_uri": "https://localhost:8080/"
        },
        "id": "vBBalSObEAmK",
        "outputId": "9564cff4-d4d5-4272-bb44-9fca61006f0a"
      },
      "outputs": [
        {
          "output_type": "stream",
          "name": "stdout",
          "text": [
            "Notas Alunos\n",
            "João: 8.5\n",
            "Pedro: 9.2\n",
            "Carlos: 7.8\n",
            "Ana: 6.5\n",
            "Maria: 7.1\n",
            "A média dos alunos é: 7.82\n",
            "O aluno com a maior nota é: Pedro 9.2\n"
          ]
        }
      ],
      "source": [
        "alunos = {\n",
        "    \"João\" : 8.5,\n",
        "    \"Pedro\" : 9.2,\n",
        "    \"Carlos\" : 7.8,\n",
        "    \"Ana\" : 6.5,\n",
        "    \"Maria\" : 7.1\n",
        "}\n",
        "\n",
        "print(\"Notas Alunos\")\n",
        "for aluno, nota in alunos.items():\n",
        "  print(f\"{aluno}: {nota}\")\n",
        "\n",
        "\n",
        "media = sum(alunos.values()) / len(alunos)\n",
        "print(f\"A média dos alunos é: {media}\")\n",
        "\n",
        "aluno_maior_nota = max(alunos, key=alunos.get)\n",
        "maior_nota = alunos[aluno_maior_nota]\n",
        "print(f\"O aluno com a maior nota é: {aluno_maior_nota} {maior_nota}\")\n",
        "\n"
      ]
    }
  ]
}