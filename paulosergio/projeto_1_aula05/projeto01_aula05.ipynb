{
  "nbformat": 4,
  "nbformat_minor": 0,
  "metadata": {
    "colab": {
      "provenance": []
    },
    "kernelspec": {
      "name": "python3",
      "display_name": "Python 3"
    },
    "language_info": {
      "name": "python"
    }
  },
  "cells": [
    {
      "cell_type": "markdown",
      "source": [
        "Desenvolver uma calculadora com funções:\n",
        "\n",
        "* No primeiro arquivo você deve criar as Funções que retornem o resultado da operação.\n",
        "\n",
        "* O segundo  arquivo deve conter a importação do primeiro e um menu para o usuário escolher a operação que deseja reconhecendo a soma, subtração, multiplicação, divisão, porcentagem e exponenciação.\n"
      ],
      "metadata": {
        "id": "r48PD5rVJ-po"
      }
    },
    {
      "cell_type": "code",
      "source": [
        "\n",
        "def somar(a, b):\n",
        "  return a + b\n",
        "def subtrair(a, b):\n",
        "  return a - b\n",
        "def multiplicar(a, b):\n",
        "  return a * b\n",
        "def dividir(a, b):\n",
        "  if b != 0:\n",
        "    return a / b\n",
        "  else:\n",
        "    return \"ERRO: DIVISÃO POR ZERO.\"\n",
        "def porcentagem(a, b):\n",
        "  return (a * b) / 100\n",
        "def exponenciação(a, b):\n",
        "  return a ** b\n"
      ],
      "metadata": {
        "id": "Ckx24dl-QQPG"
      },
      "execution_count": 22,
      "outputs": []
    },
    {
      "cell_type": "code",
      "source": [
        "from operacoes import somar, subtrair, multiplicar, dividir, porcentagem, exponenciacao\n",
        "\n",
        "print (\"Bem vindo a Calculadora Infinity!\")\n",
        "while True:\n",
        "    print(\"Selecione a operação:\")\n",
        "    print(\"1. Soma\")\n",
        "    print(\"2. Subtração\")\n",
        "    print(\"3. Multiplicação\")\n",
        "    print(\"4. Divisão\")\n",
        "    print(\"5. Porcentagem\")\n",
        "    print(\"6. Exponenciação\")\n",
        "    print(\"0. Sair\")\n",
        "    choice = input (\"Digite o número que deseja calcular: \")\n",
        "    if choice == \"0\":\n",
        "        print(\"   \")\n",
        "        print(\"Calculadora encerrada.\")\n",
        "        break\n",
        "    a = float(input(\"Digite o primeiro número: \"))\n",
        "    b = float(input(\"Digite o segundo número: \"))\n",
        "    if choice == \"1\":\n",
        "        result = somar(a, b)\n",
        "        print(\"Resultado: \", result)\n",
        "    elif choice == \"2\":\n",
        "        result = subtrair(a, b)\n",
        "        print(\"Resultado: \", result)\n",
        "    elif choice == \"3\":\n",
        "        result = multiplicar(a, b)\n",
        "        print(\"Resultado: \", result)\n",
        "    elif choice == \"4\":\n",
        "        result = dividir(a, b)\n",
        "        print(\"Resultado: \", result)\n",
        "    elif choice == \"5\":\n",
        "        result = porcentagem(a, b)\n",
        "        print(\"Resultado: \", result)\n",
        "    elif choice == \"6\":\n",
        "        result = exponenciacao(a, b)\n",
        "        print(\"Resultado: \", result)\n",
        "    else:\n",
        "       print(\"Opção inválida. Por favor, escolha uma operação válida.\")"
      ],
      "metadata": {
        "colab": {
          "base_uri": "https://localhost:8080/"
        },
        "id": "G7CAgAj3T3xA",
        "outputId": "c9b94dd4-37cb-42b0-ce2a-3487e6dcb12d"
      },
      "execution_count": 8,
      "outputs": [
        {
          "output_type": "stream",
          "name": "stdout",
          "text": [
            "Bem vindo a Calculadora Infinity!\n",
            "Selecione a operação:\n",
            "1. Soma\n",
            "2. Subtração\n",
            "3. Multiplicação\n",
            "4. Divisão\n",
            "5. Porcentagem\n",
            "6. Exponenciação\n",
            "0. Sair\n",
            "Digite o número que deseja calcular: 0\n",
            "   \n",
            "Calculadora encerrada.\n"
          ]
        }
      ]
    }
  ]
}