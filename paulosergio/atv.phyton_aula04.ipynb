{
  "nbformat": 4,
  "nbformat_minor": 0,
  "metadata": {
    "colab": {
      "provenance": []
    },
    "kernelspec": {
      "name": "python3",
      "display_name": "Python 3"
    },
    "language_info": {
      "name": "python"
    }
  },
  "cells": [
    {
      "cell_type": "markdown",
      "source": [
        "1) Crie um dicionário que deve armazenar notas de alunos:\n",
        "\n",
        "* Imprima as notas dos alunos;\n",
        "\n",
        "* Calcule a média das notas;\n",
        "\n",
        "* Encontre o aluno com a maior nota.\n"
      ],
      "metadata": {
        "id": "peT8VuGIHXZQ"
      }
    },
    {
      "cell_type": "code",
      "source": [
        "print(\"____Dicionario de Notas____\")\n",
        "alunos = {}\n",
        "quantidade_de_alunos = int (input(\"Digite a quantidade de alunos: \"))\n",
        "\n",
        "for i in range(quantidade_de_alunos):\n",
        "  nome = input(f\"Digite o nome do aluno {i+1}: \")\n",
        "  notas = []\n",
        "  for j in range (4):\n",
        "    nota = float (input(f\"Digite a nota {j+1} do aluno {nome}: \"))\n",
        "    notas.append (nota)\n",
        "  alunos[nome] = notas\n",
        "\n",
        "maior_nota = 0\n",
        "aluno_maior_nota = ''\n",
        "for aluno, nota in alunos.items():\n",
        "  print(f\"Notas do Aluno {aluno}:\")\n",
        "  soma = sum(nota)\n",
        "  media = (soma)\n",
        "  print(f\"Notas: {notas}\")\n",
        "  print(f\"Media: {media}\")\n",
        "  if soma > maior_nota:\n",
        "    maior_nota = soma\n",
        "    aluno_maior_nota = aluno\n",
        "print(\"Aluno com maior nota final: \", aluno_maior_nota)\n"
      ],
      "metadata": {
        "id": "5S8GOF7YLjdK"
      },
      "execution_count": null,
      "outputs": []
    },
    {
      "cell_type": "markdown",
      "source": [
        "1) Crie um procedimento que apenas mostre em tela uma mensagem: Hello World!\n",
        "\n",
        "2) Crie uma função que apenas mostre em tela uma mensagem dinâmica recebida como parâmetro.\n",
        "\n",
        "3)Faça um programa que tenha uma função chamada area(), que receba as dimensões de um terreno retangular (largura e comprimento) e mostre a área do terreno.\n",
        "A=b⋅h\n",
        "\n",
        "4) Escreva uma função que recebe dois parâmetros e imprime o menor dos dois. Se eles forem iguais, imprima que eles são iguais.\n",
        "\n",
        "5) Suba suas resoluções no github.\n"
      ],
      "metadata": {
        "id": "klOLq_n0nB9i"
      }
    },
    {
      "cell_type": "code",
      "source": [
        "#Questão 1\n",
        "\n",
        "def print_ola_mundo():\n",
        "    print(\"Olá Mundo!\")\n",
        "\n",
        "print_ola_mundo()\n"
      ],
      "metadata": {
        "id": "-9tq6KQunVaY"
      },
      "execution_count": null,
      "outputs": []
    },
    {
      "cell_type": "code",
      "source": [
        "# Questão 2\n",
        "def print_msg(msg):\n",
        "    print(msg)\n",
        "\n",
        "mensagem = input(\"Digite uma mensagem: \")\n",
        "print_msg(mensagem)\n"
      ],
      "metadata": {
        "id": "rA-0ENU-nsCc"
      },
      "execution_count": null,
      "outputs": []
    },
    {
      "cell_type": "code",
      "source": [
        "# Questão 3\n",
        "def area(largura, comprimento):\n",
        "    return largura*comprimento\n",
        "\n",
        "largura = float(input(\"Digite a largura do terreno (em metros): \"))\n",
        "comprimento = float(input(\"Digite o comprimento do terreno (em metros): \"))\n",
        "area_terreno = area(largura, comprimento)\n",
        "print(f\"A área do terreno é: {area_terreno} em metros quadrados\" )\n"
      ],
      "metadata": {
        "id": "CgBzjkQfoF-Q"
      },
      "execution_count": null,
      "outputs": []
    },
    {
      "cell_type": "code",
      "source": [
        "# Questão 4\n",
        "def menor(par1, par2):\n",
        "  if par1 > par2:\n",
        "    print(\"O menor valo é: \", par1)\n",
        "  elif par2 > par1:\n",
        "    print(\"O menor valor é: \", par2)\n",
        "  else:\n",
        "    print(\"Os números são iguais\")\n",
        "\n",
        "par1 = float(input(\"Digite o valor 1: \"))\n",
        "par2 = float(input(\"Digite o valor 2: \"))\n",
        "menor(par1, par2)\n"
      ],
      "metadata": {
        "id": "OI5czobToKdb"
      },
      "execution_count": null,
      "outputs": []
    }
  ]
}