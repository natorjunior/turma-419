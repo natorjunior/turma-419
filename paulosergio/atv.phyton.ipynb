{
  "nbformat": 4,
  "nbformat_minor": 0,
  "metadata": {
    "colab": {
      "provenance": []
    },
    "kernelspec": {
      "name": "python3",
      "display_name": "Python 3"
    },
    "language_info": {
      "name": "python"
    }
  },
  "cells": [
    {
      "cell_type": "markdown",
      "source": [
        "Aula 1 de Phyton"
      ],
      "metadata": {
        "id": "WE9ELumF_qIB"
      }
    },
    {
      "cell_type": "code",
      "execution_count": 2,
      "metadata": {
        "colab": {
          "base_uri": "https://localhost:8080/"
        },
        "id": "c41vBKs1_neK",
        "outputId": "ccf66232-e615-4d71-9dd4-ad38c54f6df8"
      },
      "outputs": [
        {
          "output_type": "stream",
          "name": "stdout",
          "text": [
            "Exemplo de lista vazia: []\n",
            "Tipo de uma lista: <class 'list'>\n"
          ]
        }
      ],
      "source": [
        "lista_vazia = []\n",
        "print(f\"Exemplo de lista vazia: {lista_vazia}\")\n",
        "print(f\"Tipo de uma lista: {type(lista_vazia)}\")"
      ]
    },
    {
      "cell_type": "code",
      "source": [
        "lista_vazia = [1, 2, -1, -2]\n",
        "print(f\"Exemplo de lista de inteiro{lista_vazia}\")"
      ],
      "metadata": {
        "colab": {
          "base_uri": "https://localhost:8080/"
        },
        "id": "HiAVBga4AcIG",
        "outputId": "f190aca1-6464-4142-a112-9fd8c999ebba"
      },
      "execution_count": 3,
      "outputs": [
        {
          "output_type": "stream",
          "name": "stdout",
          "text": [
            "Exemplo de lista de inteiro[1, 2, -1, -2]\n"
          ]
        }
      ]
    },
    {
      "cell_type": "markdown",
      "source": [
        "1) Crie uma lista com valores variados e envie a mesma para uma função que irá imprimir essa lista.\n"
      ],
      "metadata": {
        "id": "LJ-c6g5ZBk3t"
      }
    },
    {
      "cell_type": "code",
      "source": [
        "lista_vazia = [1, 2, -1, -2]\n",
        "print(f\"Exemplo de lista de inteiro{lista_vazia}\")"
      ],
      "metadata": {
        "id": "zoqPZ0wKBuns"
      },
      "execution_count": null,
      "outputs": []
    }
  ]
}