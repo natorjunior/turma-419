{
  "nbformat": 4,
  "nbformat_minor": 0,
  "metadata": {
    "colab": {
      "provenance": [],
      "toc_visible": true
    },
    "kernelspec": {
      "name": "python3",
      "display_name": "Python 3"
    },
    "language_info": {
      "name": "python"
    }
  },
  "cells": [
    {
      "cell_type": "markdown",
      "source": [
        "1) Faça um programa que imprima os numeros pares de 1 a 200."
      ],
      "metadata": {
        "id": "y2X65h2WKc8x"
      }
    },
    {
      "cell_type": "code",
      "execution_count": null,
      "metadata": {
        "id": "PP-gqM2gJacg"
      },
      "outputs": [],
      "source": [
        "for num in range(1, 201):\n",
        " if num % 2 == 0:\n",
        "  print(num)\n"
      ]
    },
    {
      "cell_type": "markdown",
      "source": [
        "2) Escreva um programa que cria uma lisfta concatenada com ela mesma, em seguida imprima o resultado em python."
      ],
      "metadata": {
        "id": "x7fxujeefBqQ"
      }
    },
    {
      "cell_type": "code",
      "source": [
        "lista = [1, 2, 3, 4, 5]\n",
        "concatenada = lista + lista\n",
        "print(concatenada)\n"
      ],
      "metadata": {
        "colab": {
          "base_uri": "https://localhost:8080/"
        },
        "id": "H5TEeQehfQbh",
        "outputId": "40b7e7e8-7746-493c-e822-bc8b4afee887"
      },
      "execution_count": 17,
      "outputs": [
        {
          "output_type": "stream",
          "name": "stdout",
          "text": [
            "[1, 2, 3, 4, 5, 1, 2, 3, 4, 5]\n"
          ]
        }
      ]
    },
    {
      "cell_type": "markdown",
      "source": [
        "3) Crie uma lista com 5 valores inteiro e escreva um programa que soma os três últimos iténs da lista em python."
      ],
      "metadata": {
        "id": "pvZ6QHDAfQ6c"
      }
    },
    {
      "cell_type": "code",
      "source": [
        "lista = [10, 20, 30, 40, 50]\n",
        "soma = sum(lista[-3:])\n",
        "print(\"A soma dos três últimos itens da lista é:\", soma)\n"
      ],
      "metadata": {
        "colab": {
          "base_uri": "https://localhost:8080/"
        },
        "id": "FB8I6pAZfhYH",
        "outputId": "7a6f925d-5244-4fe1-ca14-eadb8fbf5002"
      },
      "execution_count": 18,
      "outputs": [
        {
          "output_type": "stream",
          "name": "stdout",
          "text": [
            "A soma dos três últimos itens da lista é: 120\n"
          ]
        }
      ]
    }
  ]
}