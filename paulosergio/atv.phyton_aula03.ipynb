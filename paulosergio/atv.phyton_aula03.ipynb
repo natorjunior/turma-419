{
  "nbformat": 4,
  "nbformat_minor": 0,
  "metadata": {
    "colab": {
      "provenance": []
    },
    "kernelspec": {
      "name": "python3",
      "display_name": "Python 3"
    },
    "language_info": {
      "name": "python"
    }
  },
  "cells": [
    {
      "cell_type": "markdown",
      "source": [
        "1) Escreva um programa que solicite ao usuário que digite uma série de notas e, em seguida, calcule e exiba a média das notas fornecidas.\n",
        "\n",
        "  Dicas:\n",
        "\n",
        "* Utilize uma lista para armazenar as notas.\n",
        "\n",
        "* Use um loop para solicitar as notas ao usuário.\n",
        "\n",
        "* Calcule a média das notas somando-as e dividindo pelo número total de notas.\n"
      ],
      "metadata": {
        "id": "ZzsB2n5ZG6U7"
      }
    },
    {
      "cell_type": "code",
      "execution_count": null,
      "metadata": {
        "id": "PA2L4aGkG50E"
      },
      "outputs": [],
      "source": [
        "\n",
        "notas = []\n",
        "while True:\n",
        "    nota = float (input(\"Digite uma nota (ou fim para descobrir a média): \"))\n",
        "    notas.append(nota)\n",
        "\n",
        "    resposta = input(\"Deseja sair? sim ou não: \")\n",
        "\n",
        "    if (resposta == 'sim'):\n",
        "      break\n",
        "\n",
        "\n",
        "if len(notas) > 0:\n",
        "      media = sum(notas) / len(notas)\n",
        "      print(\"A média das notas é:\", media)\n",
        "else:\n",
        "      print(\"Nenhuma nota foi fornecida.\")\n"
      ]
    },
    {
      "cell_type": "code",
      "source": [
        "notas = []\n",
        "\n",
        "while len(notas) < 4:\n",
        "    nota = float(input(\"Digite uma nota: \"))\n",
        "    notas.append(nota)\n",
        "\n",
        "while True:\n",
        "    resposta = input(\"Deseja encerrar? (sim ou não): \")\n",
        "    if resposta.lower() == \"sim\":\n",
        "        break\n",
        "    nota = float(input(\"Digite uma nota: \"))\n",
        "    notas.append(nota)\n",
        "\n",
        "if len(notas) > 0:\n",
        "    media = sum(notas) / len(notas)\n",
        "    print(\"A média das notas é:\", media)\n",
        "else:\n",
        "    print(\"Nenhuma nota foi fornecida.\")\n"
      ],
      "metadata": {
        "id": "oKaz6v6FRpBs"
      },
      "execution_count": null,
      "outputs": []
    },
    {
      "cell_type": "markdown",
      "source": [
        "2) Leia 4 notas de um aluno, calcule sua média e armazene em um dicionário as seguintes informações:\n",
        "\n",
        "* Nome do aluno;\n",
        "\n",
        "* As 4 notas obtidas;\n",
        "\n",
        "* Maior nota;\n",
        "\n",
        "* Menor nota;\n",
        "\n",
        "* Média;\n",
        "\n",
        "* Situação;\n",
        "\n",
        "* Aprovado se média for maior ou igual a 7;\n",
        "\n",
        "* Reprovado se média for menor que 7\n"
      ],
      "metadata": {
        "id": "soBlDp0ySWef"
      }
    },
    {
      "cell_type": "code",
      "source": [
        "alunos = []\n",
        "\n",
        "while True:\n",
        "    aluno = {}\n",
        "    print(\"_____Informações_____\")\n",
        "    aluno['nome'] = input(\"Digite o nome do aluno (ou fim para encerrar): \")\n",
        "\n",
        "    if aluno['nome'].lower() == 'fim':\n",
        "        break\n",
        "\n",
        "    notas = []\n",
        "    for i in range(4):\n",
        "        nota = float(input(f\"Digite a nota {i+1} do aluno: \"))\n",
        "        notas.append(nota)\n",
        "\n",
        "    aluno['notas'] = notas\n",
        "    aluno['maior_nota'] = max(notas)\n",
        "    aluno['menor_nota'] = min(notas)\n",
        "    aluno['media'] = sum(notas) / len(notas)\n",
        "\n",
        "    if aluno['media'] >= 7:\n",
        "        aluno['situacao'] = 'Aprovado'\n",
        "    else:\n",
        "        aluno['situacao'] = 'Reprovado'\n",
        "\n",
        "    alunos.append(aluno)\n",
        "\n",
        "for aluno in alunos:\n",
        "    print(\"Aluno:\", aluno['nome'])\n",
        "    print(f\"Notas do(a) {aluno['nome']}: \", aluno['notas'])\n",
        "    print(f\"Maior nota do(a) {aluno['nome']}: \", aluno['maior_nota'])\n",
        "    print(f\"Menor nota do(a) {aluno['nome']}: \", aluno['menor_nota'])\n",
        "    print(f\"Média do(a) {aluno['nome']}: \", aluno['media'])\n",
        "    print(f\"Situação do(a) {aluno['nome']}:\", aluno['situacao'])\n",
        "    print(\"-----------------------------\")\n"
      ],
      "metadata": {
        "id": "QKa5B6SjTMlS"
      },
      "execution_count": null,
      "outputs": []
    }
  ]
}