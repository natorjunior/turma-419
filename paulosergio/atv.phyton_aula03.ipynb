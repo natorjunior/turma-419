{
  "nbformat": 4,
  "nbformat_minor": 0,
  "metadata": {
    "colab": {
      "provenance": []
    },
    "kernelspec": {
      "name": "python3",
      "display_name": "Python 3"
    },
    "language_info": {
      "name": "python"
    }
  },
  "cells": [
    {
      "cell_type": "markdown",
      "source": [
        "1) Escreva um programa que solicite ao usuário que digite uma série de notas e, em seguida, calcule e exiba a média das notas fornecidas.\n",
        "\n",
        "  Dicas:\n",
        "\n",
        "* Utilize uma lista para armazenar as notas.\n",
        "\n",
        "* Use um loop para solicitar as notas ao usuário.\n",
        "\n",
        "* Calcule a média das notas somando-as e dividindo pelo número total de notas.\n"
      ],
      "metadata": {
        "id": "ZzsB2n5ZG6U7"
      }
    },
    {
      "cell_type": "code",
      "execution_count": null,
      "metadata": {
        "id": "PA2L4aGkG50E"
      },
      "outputs": [],
      "source": [
        "\n",
        "notas = []\n",
        "while True:\n",
        "    nota = float (input(\"Digite uma nota (ou fim para descobrir a média): \"))\n",
        "    notas.append(nota)\n",
        "\n",
        "    resposta = input(\"Deseja sair? sim ou não: \")\n",
        "\n",
        "    if (resposta == 'sim'):\n",
        "      break\n",
        "\n",
        "\n",
        "if len(notas) > 0:\n",
        "      media = sum(notas) / len(notas)\n",
        "      print(\"A média das notas é:\", media)\n",
        "else:\n",
        "      print(\"Nenhuma nota foi fornecida.\")\n"
      ]
    }
  ]
}