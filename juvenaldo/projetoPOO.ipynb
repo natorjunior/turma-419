{
 "cells": [
  {
   "cell_type": "code",
   "execution_count": 12,
   "metadata": {},
   "outputs": [],
   "source": [
    "class Funcionario:\n",
    "   def __init__(self, ID, nome, cargo, salario ):\n",
    "       self.ID = ID\n",
    "       self.nome = nome\n",
    "       self.cargo = cargo\n",
    "       self.salario = salario\n",
    "  \n",
    "class FuncionarioTI (Funcionario):\n",
    "   def __init__(self, ID, nome, cargo, salario, ling_preferida):\n",
    "       super().__init__(ID, nome, cargo, salario)\n",
    "       self.ling_preferida = ling_preferida\n",
    "    \n",
    "\n",
    "class Diret (Funcionario):\n",
    "   def __init__(self, ID, nome, cargo, salario, diretor, nivel_grad, ling_estrang):\n",
    "       super().__init__(ID, nome, cargo, salario)\n",
    "       self.diretor = diretor\n",
    "       self.nivel_grad = nivel_grad\n",
    "       self.ling_estrang = ling_estrang\n",
    "    \n",
    "\n",
    "    \n",
    "class Sec (Funcionario):\n",
    "   def __init__(self, ID, nome, cargo, salario, nivel_grad):\n",
    "       super().__init__(ID, nome, cargo, salario)\n",
    "       self.nivel_grad = nivel_grad"
   ]
  }
 ],
 "metadata": {
  "kernelspec": {
   "display_name": "Python 3",
   "language": "python",
   "name": "python3"
  },
  "language_info": {
   "codemirror_mode": {
    "name": "ipython",
    "version": 3
   },
   "file_extension": ".py",
   "mimetype": "text/x-python",
   "name": "python",
   "nbconvert_exporter": "python",
   "pygments_lexer": "ipython3",
   "version": "3.10.2"
  },
  "orig_nbformat": 4
 },
 "nbformat": 4,
 "nbformat_minor": 2
}
