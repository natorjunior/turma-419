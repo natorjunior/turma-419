{
 "cells": [
  {
   "cell_type": "code",
   "execution_count": null,
   "id": "7d771830-1fcc-40ce-929a-1c5fc0b869db",
   "metadata": {},
   "outputs": [],
   "source": [
    "from statistics import mean\n",
    "aluno = str(input('Ditie o nome do aluno: '))\n",
    "nota = []\n",
    "\n",
    "for notas in range(0, 4):\n",
    "    notas = float(input('Digite a nota do aluno: '))\n",
    "    nota.append(notas)\n",
    "maior = max(nota)\n",
    "minimo = min(nota)\n",
    "media = mean(nota)\n",
    "if media >= 7:\n",
    "    print('APROVADO')\n",
    "    situacao = 'APROVADO'\n",
    "else:\n",
    "    print('REPORVADO')\n",
    "    situacao = 'REPROVADO'\n",
    "meu_dicionario = {\n",
    "    'nome':aluno,\n",
    "    'maior_nota':maior,\n",
    "    'Menor_nota':minimo,\n",
    "    'Media_nota':media,\n",
    "    'Situacao':situacao\n",
    "}\n",
    "print(meu_dicionario)"
   ]
  }
 ],
 "metadata": {
  "kernelspec": {
   "display_name": "Python 3 (ipykernel)",
   "language": "python",
   "name": "python3"
  },
  "language_info": {
   "codemirror_mode": {
    "name": "ipython",
    "version": 3
   },
   "file_extension": ".py",
   "mimetype": "text/x-python",
   "name": "python",
   "nbconvert_exporter": "python",
   "pygments_lexer": "ipython3",
   "version": "3.9.13"
  }
 },
 "nbformat": 4,
 "nbformat_minor": 5
}
