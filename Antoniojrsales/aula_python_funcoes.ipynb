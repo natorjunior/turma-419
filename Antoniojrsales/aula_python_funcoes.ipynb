{
 "cells": [
  {
   "cell_type": "code",
   "execution_count": 16,
   "id": "3f9e46c4-f868-4b6a-8cb6-c73f7af16161",
   "metadata": {},
   "outputs": [
    {
     "name": "stdout",
     "output_type": "stream",
     "text": [
      "HELLO WORD\n"
     ]
    }
   ],
   "source": [
    "def imprimir():\n",
    "    print('HELLO WORD')\n",
    "imprimir()"
   ]
  },
  {
   "cell_type": "code",
   "execution_count": 39,
   "id": "9412af92-18fb-4910-b22c-d467db100903",
   "metadata": {},
   "outputs": [
    {
     "data": {
      "text/plain": [
       "'ola mundo'"
      ]
     },
     "execution_count": 39,
     "metadata": {},
     "output_type": "execute_result"
    }
   ],
   "source": [
    "def imprimindo(Hello_Word):\n",
    "    return Hello_Word\n",
    "imprimindo('ola mundo')"
   ]
  },
  {
   "cell_type": "code",
   "execution_count": 40,
   "id": "dfa788a6-3528-4b76-8b92-46fc00e2cf19",
   "metadata": {},
   "outputs": [
    {
     "data": {
      "text/plain": [
       "12"
      ]
     },
     "execution_count": 40,
     "metadata": {},
     "output_type": "execute_result"
    }
   ],
   "source": [
    "def area(largura, comprimento):\n",
    "    area = largura * comprimento\n",
    "    return area\n",
    "area(4, 3)"
   ]
  },
  {
   "cell_type": "code",
   "execution_count": 56,
   "id": "cf126e75-34ec-43eb-9032-b962e59ee44d",
   "metadata": {},
   "outputs": [
    {
     "name": "stdout",
     "output_type": "stream",
     "text": [
      "O menor e 2 \n"
     ]
    }
   ],
   "source": [
    "def valores(val1, val2):\n",
    "    if val1 == val2:\n",
    "        print('Valores iguais')\n",
    "    elif val1 < val2:\n",
    "        print(f'O menor e {val1} ')\n",
    "    else:\n",
    "        print(f'O menor e {val2} ')\n",
    "valores(2,3)"
   ]
  }
 ],
 "metadata": {
  "kernelspec": {
   "display_name": "Python 3 (ipykernel)",
   "language": "python",
   "name": "python3"
  },
  "language_info": {
   "codemirror_mode": {
    "name": "ipython",
    "version": 3
   },
   "file_extension": ".py",
   "mimetype": "text/x-python",
   "name": "python",
   "nbconvert_exporter": "python",
   "pygments_lexer": "ipython3",
   "version": "3.9.13"
  }
 },
 "nbformat": 4,
 "nbformat_minor": 5
}
