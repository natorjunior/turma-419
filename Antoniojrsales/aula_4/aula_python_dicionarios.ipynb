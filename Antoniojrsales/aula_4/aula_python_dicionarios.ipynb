{
 "cells": [
  {
   "cell_type": "code",
   "execution_count": 54,
   "id": "e07517d3-b0c0-4685-a121-db07dd819309",
   "metadata": {},
   "outputs": [
    {
     "name": "stdin",
     "output_type": "stream",
     "text": [
      "Digite o nome do aluno:  carlos\n",
      "Digite a nota do aluno:  5\n",
      "Digite o nome do aluno:  marcos\n",
      "Digite a nota do aluno:  6\n",
      "Digite o nome do aluno:  jose\n",
      "Digite a nota do aluno:  8\n",
      "Digite o nome do aluno:  maria\n",
      "Digite a nota do aluno:  7\n"
     ]
    },
    {
     "name": "stdout",
     "output_type": "stream",
     "text": [
      "A maior nota dos alunos foi ('jose', 8)\n",
      "Os alunos receberam as notas {'carlos': 5, 'marcos': 6, 'jose': 8, 'maria': 7}\n",
      "A media das notas dos alunos foram 6.5\n"
     ]
    }
   ],
   "source": [
    "nota = {}\n",
    "nota_maxima = 0 \n",
    "nome_aluno = ''\n",
    "for notas in range(0,4):\n",
    "    aluno = str(input('Digite o nome do aluno: ')) \n",
    "    notas = int(input('Digite a nota do aluno: '))\n",
    "    nota[aluno] = notas\n",
    "    if notas > nota_maxima:\n",
    "        nota_maxima = notas\n",
    "        nome_aluno = aluno\n",
    "print(f'A maior nota dos alunos foi {nota_maxima,nome_aluno}') \n",
    "media = nota.values()\n",
    "media_aluno = sum(media)/len(nota) \n",
    "print(f'Os alunos receberam as notas {nota}')\n",
    "print(f'A media das notas dos alunos foram {media_aluno}')"
   ]
  }
 ],
 "metadata": {
  "kernelspec": {
   "display_name": "Python 3 (ipykernel)",
   "language": "python",
   "name": "python3"
  },
  "language_info": {
   "codemirror_mode": {
    "name": "ipython",
    "version": 3
   },
   "file_extension": ".py",
   "mimetype": "text/x-python",
   "name": "python",
   "nbconvert_exporter": "python",
   "pygments_lexer": "ipython3",
   "version": "3.9.13"
  }
 },
 "nbformat": 4,
 "nbformat_minor": 5
}
