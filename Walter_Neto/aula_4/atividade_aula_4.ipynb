{
  "nbformat": 4,
  "nbformat_minor": 0,
  "metadata": {
    "colab": {
      "provenance": []
    },
    "kernelspec": {
      "name": "python3",
      "display_name": "Python 3"
    },
    "language_info": {
      "name": "python"
    }
  },
  "cells": [
    {
      "cell_type": "code",
      "execution_count": null,
      "metadata": {
        "colab": {
          "base_uri": "https://localhost:8080/"
        },
        "id": "8Xe2EU7FBk-o",
        "outputId": "ee2f7680-599e-46ec-897b-4a84d5ef0fad"
      },
      "outputs": [
        {
          "output_type": "stream",
          "name": "stdout",
          "text": [
            "Digite uma nota: 5\n",
            "Digite uma nota: 5\n",
            "Digite uma nota: 6\n",
            "Digite uma nota: 5\n",
            "Digite uma nota: 0\n",
            "5.25\n"
          ]
        }
      ],
      "source": [
        "lista = []\n",
        "\n",
        "while True:\n",
        "  usuario = int(input('Digite uma nota: '))\n",
        "  if usuario != 0:\n",
        "    lista.append (usuario)\n",
        "  else:\n",
        "    break\n",
        "ti = len(lista)\n",
        "print((sum(lista))/ti)\n",
        "\n"
      ]
    }
  ]
}