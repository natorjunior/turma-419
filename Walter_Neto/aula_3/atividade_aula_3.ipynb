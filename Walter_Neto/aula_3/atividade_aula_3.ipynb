{
  "nbformat": 4,
  "nbformat_minor": 0,
  "metadata": {
    "colab": {
      "provenance": []
    },
    "kernelspec": {
      "name": "python3",
      "display_name": "Python 3"
    },
    "language_info": {
      "name": "python"
    }
  },
  "cells": [
    {
      "cell_type": "code",
      "execution_count": 45,
      "metadata": {
        "colab": {
          "base_uri": "https://localhost:8080/"
        },
        "id": "i3cBYKG6B3Tr",
        "outputId": "fd638f3e-d9ba-48f7-cdff-b2304b956528"
      },
      "outputs": [
        {
          "name": "stdout",
          "output_type": "stream",
          "text": [
            "Digite: 1\n",
            "Digite: 2\n",
            "Digite: 3\n",
            "Digite: 4\n",
            "Digite: 5\n",
            "Digite: 0\n"
          ]
        },
        {
          "output_type": "execute_result",
          "data": {
            "text/plain": [
              "12"
            ]
          },
          "metadata": {},
          "execution_count": 45
        }
      ],
      "source": [
        "# lista = []\n",
        "# # https://congruous-organ-156.notion.site/Ramifica-o-de-trabalho-0902bbcb33ee4a78a864bc49b58003fa\n",
        "# for multiplicador in range (1,200+1):\n",
        "#   arqu = multiplicador%2\n",
        "#   if arqu == 0:\n",
        "#       lista.append (multiplicador)\n",
        "# print(lista)\n",
        "\n",
        "# [1,2,3] + [4,5] = [1,2,3,4,5]\n",
        "# [0,1]*2 = [0,1,0,1]\n",
        "# [10,20,30][0] = 10\n",
        "# [1,1,2,3][1:3] = [1,2]\n",
        "\n",
        "\n",
        "lista = []\n",
        "\n",
        "\n",
        "while True:\n",
        "  ti = int((input('Digite: ')))\n",
        "  if ti != 0:\n",
        "    lista.append(ti)\n",
        "  else : break\n",
        "\n",
        "fic = [lista]*2\n",
        "\n",
        "tip = lista[-1 :1 :-1]\n",
        "sum(tip)\n",
        "\n",
        "\n"
      ]
    }
  ]
}