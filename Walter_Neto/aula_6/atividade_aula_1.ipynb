{
  "nbformat": 4,
  "nbformat_minor": 0,
  "metadata": {
    "colab": {
      "provenance": []
    },
    "kernelspec": {
      "name": "python3",
      "display_name": "Python 3"
    },
    "language_info": {
      "name": "python"
    }
  },
  "cells": [
    {
      "cell_type": "code",
      "execution_count": 6,
      "metadata": {
        "colab": {
          "base_uri": "https://localhost:8080/"
        },
        "id": "RILEMOWo9RSk",
        "outputId": "cd9e51f2-81ea-45d8-82a3-0d3051f9e58c"
      },
      "outputs": [
        {
          "output_type": "stream",
          "name": "stdout",
          "text": [
            "valor i: 1\n",
            "valor f: 2\n",
            "valor s: e\n",
            "[1, 2.0, 'e']\n"
          ]
        }
      ],
      "source": [
        "from traitlets.traitlets import Integer\n",
        "# lista_vazia = []\n",
        "\n",
        "# print(f'exemplo de lista vazia: {lista_vazia}')\n",
        "# print(f'tipo de uma lista: {type(lista_vazia)}')\n",
        "\n",
        "\n",
        "# lista_vazia = [1,2,3,4,[1,2,3,4]]\n",
        "\n",
        "# print(f'exemplo de lista vazia: {lista_vazia}')\n",
        "# print(f'tipo de uma lista: {type(lista_vazia)}')\n",
        "\n",
        "\n",
        "recebe_vi = int(input('valor i: '))\n",
        "recebe_vf = float(input('valor f: '))\n",
        "recebe_vs = str(input('valor s: '))\n",
        "\n",
        "lista_geral = [recebe_vi,recebe_vf, recebe_vs]\n",
        "print(lista_geral)"
      ]
    }
  ]
}