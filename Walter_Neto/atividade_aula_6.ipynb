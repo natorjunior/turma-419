{
  "nbformat": 4,
  "nbformat_minor": 0,
  "metadata": {
    "colab": {
      "provenance": []
    },
    "kernelspec": {
      "name": "python3",
      "display_name": "Python 3"
    },
    "language_info": {
      "name": "python"
    }
  },
  "cells": [
    {
      "cell_type": "code",
      "execution_count": 36,
      "metadata": {
        "colab": {
          "base_uri": "https://localhost:8080/"
        },
        "id": "RILEMOWo9RSk",
        "outputId": "2ee39142-ca4f-4627-fde8-f32c012fb094"
      },
      "outputs": [
        {
          "output_type": "stream",
          "name": "stdout",
          "text": [
            "------------ Testes da Aula ------------\n",
            "\n",
            "valor i: 1\n",
            "valor i: 2\n",
            "valor i: 3\n",
            "valor i: 4\n",
            "valor v: 5\n",
            "valor v: 6\n",
            "valor v: 7\n",
            "valor v: 8\n",
            "Os valores somados são: 9\n"
          ]
        }
      ],
      "source": [
        "from traitlets.traitlets import Integer\n",
        "# lista_vazia = []\n",
        "\n",
        "# print(f'exemplo de lista vazia: {lista_vazia}')\n",
        "# print(f'tipo de uma lista: {type(lista_vazia)}')\n",
        "\n",
        "\n",
        "# lista_vazia = [1,2,3,4,[1,2,3,4]]\n",
        "\n",
        "# print(f'exemplo de lista vazia: {lista_vazia}')\n",
        "# print(f'tipo de uma lista: {type(lista_vazia)}')\n",
        "\n",
        "\n",
        "\n",
        "\n",
        "# recebe_vf = int(input('valor f: '))\n",
        "# recebe_vs = int(input('valor s: '))\n",
        "# recebe_vs2 = int(input('valor s2: '))\n",
        "\n",
        "# lista_geral = (recebe_vi+recebe_vf + recebe_vs + recebe_vs2)/4\n",
        "\n",
        "# print(f'Média dos valores: {lista_geral:.0f}')\n",
        "\n",
        "# lista_geral1 = [recebe_vi,recebe_vf, recebe_vs,recebe_vs2]\n",
        "# lista_geral2 = [recebe_vi,recebe_vf, recebe_vs,recebe_vs2]\n",
        "\n",
        "\n",
        "# recebe_lista = (lista_geral1[0])+(lista_geral2[-1])\n",
        "\n",
        "# print(recebe_lista)\n",
        "\n",
        "print('------------ Testes da Aula ------------\\n')\n",
        "\n",
        "listinha = []\n",
        "listinha2 = []\n",
        "\n",
        "for multiplicador in range(1,4+1):\n",
        "  recebe_vi = int(input('valor i: '))\n",
        "  listinha.append(recebe_vi)\n",
        "\n",
        "for multiplicador in range(1,4+1):\n",
        "  recebe_vv = int(input('valor v: '))\n",
        "  listinha2.append(recebe_vv)\n",
        "\n",
        "print(f'Os valores somados são: {listinha[0]+listinha2[-1]}')\n"
      ]
    }
  ]
}