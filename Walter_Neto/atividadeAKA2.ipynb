{
  "nbformat": 4,
  "nbformat_minor": 0,
  "metadata": {
    "colab": {
      "provenance": []
    },
    "kernelspec": {
      "name": "python3",
      "display_name": "Python 3"
    },
    "language_info": {
      "name": "python"
    }
  },
  "cells": [
    {
      "cell_type": "code",
      "execution_count": 22,
      "metadata": {
        "colab": {
          "base_uri": "https://localhost:8080/"
        },
        "id": "RILEMOWo9RSk",
        "outputId": "0810e56a-41c2-42e8-b386-410c57f5bceb"
      },
      "outputs": [
        {
          "output_type": "stream",
          "name": "stdout",
          "text": [
            "------------ Testes da Aula ------------\n",
            "\n",
            "valor i: 2\n",
            "valor f: 3\n",
            "valor s: 4\n",
            "valor s2: 5\n",
            "Média dos valores: 4\n",
            "7\n"
          ]
        }
      ],
      "source": [
        "from traitlets.traitlets import Integer\n",
        "# lista_vazia = []\n",
        "\n",
        "# print(f'exemplo de lista vazia: {lista_vazia}')\n",
        "# print(f'tipo de uma lista: {type(lista_vazia)}')\n",
        "\n",
        "\n",
        "# lista_vazia = [1,2,3,4,[1,2,3,4]]\n",
        "\n",
        "# print(f'exemplo de lista vazia: {lista_vazia}')\n",
        "# print(f'tipo de uma lista: {type(lista_vazia)}')\n",
        "\n",
        "print('------------ Testes da Aula ------------\\n')\n",
        "recebe_vi = int(input('valor i: '))\n",
        "recebe_vf = int(input('valor f: '))\n",
        "recebe_vs = int(input('valor s: '))\n",
        "recebe_vs2 = int(input('valor s2: '))\n",
        "\n",
        "lista_geral = (recebe_vi+recebe_vf + recebe_vs + recebe_vs2)/4\n",
        "\n",
        "print(f'Média dos valores: {lista_geral:.0f}')\n",
        "\n",
        "lista_geral1 = [recebe_vi,recebe_vf, recebe_vs,recebe_vs2]\n",
        "lista_geral2 = [recebe_vi,recebe_vf, recebe_vs,recebe_vs2]\n",
        "\n",
        "\n",
        "recebe_lista = (lista_geral1[0])+(lista_geral2[-1])\n",
        "\n",
        "print(recebe_lista)\n",
        "\n"
      ]
    }
  ]
}