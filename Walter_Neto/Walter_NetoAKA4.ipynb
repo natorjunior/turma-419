{
  "nbformat": 4,
  "nbformat_minor": 0,
  "metadata": {
    "colab": {
      "provenance": []
    },
    "kernelspec": {
      "name": "python3",
      "display_name": "Python 3"
    },
    "language_info": {
      "name": "python"
    }
  },
  "cells": [
    {
      "cell_type": "code",
      "execution_count": 48,
      "metadata": {
        "colab": {
          "base_uri": "https://localhost:8080/"
        },
        "id": "8Xe2EU7FBk-o",
        "outputId": "84fe768c-ef21-4511-e831-d1f5310b40c0"
      },
      "outputs": [
        {
          "output_type": "stream",
          "name": "stdout",
          "text": [
            "Nome do Aluno: Sasasa\n",
            "Nota do Aluno: 5\n",
            "Nota do Aluno: 6\n",
            "Nota do Aluno: 7\n",
            "Nota do Aluno: 8\n",
            "Sasasa você foi reprovado com a média de 6.5.\n",
            "Maior nota de 8.0 e menor nota de 5.0\n",
            "{'nome': 'Sasasa', 'notas': [5.0, 6.0, 7.0, 8.0], 'maior_nota': 8.0, 'menor_nota': 5.0, 'situacao': 'reprovado'}\n"
          ]
        }
      ],
      "source": [
        "# lista = []\n",
        "\n",
        "# while True:\n",
        "#   usuario = float(input('Digite uma nota: '))\n",
        "#   if usuario != 0:\n",
        "#     lista.append (usuario)\n",
        "#   else:\n",
        "#     break\n",
        "# ti = len(lista)\n",
        "# print((sum(lista))/ti)\n",
        "\n",
        "m_dicionario = {}\n",
        "lista = []\n",
        "\n",
        "nome = str(input('Nome do Aluno: '))\n",
        "\n",
        "for i in range(0,4):\n",
        "  nota = float(input('Nota do Aluno: '))\n",
        "  lista.append(nota)\n",
        "\n",
        "\n",
        "ma = max(lista)\n",
        "mi = min(lista)\n",
        "\n",
        "media =(sum(lista)/len(lista))\n",
        "\n",
        "\n",
        "if media >= 7:\n",
        "  print(f'{nome} você foi aprovado com a média de {media}\\nMaior nota de {ma} e menor nota de {mi}')\n",
        "  situacao = 'Aprovado'\n",
        "else:\n",
        "  print(f'{nome} você foi reprovado com a média de {media}.\\nMaior nota de {ma} e menor nota de {mi}')\n",
        "  situacao = 'Reprovado'\n",
        "\n",
        "m_dicionario = {\n",
        "    'nome':nome,\n",
        "    'notas':lista,\n",
        "    'maior_nota':ma,\n",
        "    'menor_nota':mi,\n",
        "    'situacao':situacao\n",
        "}\n",
        "\n",
        "print(m_dicionario)\n",
        "\n",
        "\n",
        "\n"
      ]
    }
  ]
}